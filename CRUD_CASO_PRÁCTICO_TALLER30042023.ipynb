import tkinter as tk
import cx_Oracle
from tkinter import ttk

class FormularioCrudCliente(tk.Toplevel):
    def __init__(self):
        super().__init__()
        ## recordar: el self indica propiedad de la clase ( este elemento me pertenece, es por ello que se le asigna el self)
        self.conexion = cx_Oracle.connect(user='jburpal', password='123', dsn='XE')
        
        self.etiqueta1 = tk.Label(self, text="Código Producto: ")
        self.etiqueta2 = tk.Label(self, text="Nombre: ")
        self.entrada1 = tk.Entry(self)
        self.entrada2 = tk.Entry(self)

        self.boton1 = tk.Button(self, text="Agregar", command=self.agregar_registro)
        
        self.tabla_prod = ttk.Treeview(self, columns=("COD CLIENTE","NOMBRE CLIENTE","DIRECCIÓN","TELÉFONO","EMAIL"), show='headings')
        self.tabla_prod.heading("#1", text="COD CLIENTE")
        self.tabla_prod.heading("#2", text="NOMBRE CLIENTE")
        self.tabla_prod.heading("#3", text="DIRECCIÓN")
        self.tabla_prod.heading("#4", text="ELÉFONO")
        self.tabla_prod.heading("#5", text="EMAIL")

        self.etiqueta1.grid(row=0, column=0)
        self.entrada1.grid(row=0, column=1)
        self.etiqueta2.grid(row=1, column=0)
        self.entrada2.grid(row=1, column=1)
        self.boton1.grid(row=2, column=0)
        self.tabla_prod.grid(row=3, column=0, columnspan=2)

        self.refrescar_tabla_clientes()
        
    ##AGREGAR LAS DEMÁS FUNCIONES
    def agregar_registro(self):
        # Obtener los valores de los campos de entrada
        codigo = self.entrada1.get()
        nombre = self.entrada2.get()
        
        # Insertar el nuevo registro en la base de datos
        consulta = self.conexion.cursor()
        consulta.execute("INSERT INTO clientes (COD_CLIE, NOMBRE_CLIE) VALUES (:codigo, :nombre)", {'codigo': codigo, 'nombre': nombre})
        self.conexion.commit()
        
        # Limpiar los campos de entrada y mostrar los registros actualizados
        self.entrada1.delete(0, tk.END)
        self.entrada2.delete(0, tk.END)
        self.mostrar_registros()
    
    """def mostrar_registros(self):
        # Obtener todos los registros de la base de datos
        consulta = self.conexion.cursor()
        consulta.execute("SELECT * FROM clientes")
        registros = consulta.fetchall()
        
        # Mostrar los registros en una lista
        self.lista_registros = tk.Listbox(self)
        for registro in registros:
            self.lista_registros.insert(tk.END, registro)
        self.lista_registros.grid(row=3, column=0, columnspan=2)"""
        
    def refrescar_tabla_clientes(self):
        consulta = self.conexion.cursor() #preparando la consulta
        consulta.execute("select * from clientes")
        filas = consulta.fetchall()
        consulta.close()
        self.tabla_prod.delete(*self.tabla_prod.get_children())
        for fila in filas:
            self.tabla_prod.insert("",tk.END, values=fila)
    
    def __del__(self):
        # Cerrar la conexión a la base de datos al cerrar el formulario
        self.conexion.close()

# Crear la ventana principal
ventana = tk.Tk()

# Establecer las dimensiones de la ventana
ventana.geometry("180x50")
# Inhabilitar la opción de maximizar la ventana
ventana.resizable(0, 0)
# Agregar un botón para abrir el formulario CRUD
boton_abrir_formulario_crud_clientes = tk.Button(ventana, text='MANTENIMIENTO CLIENTES', command=FormularioCrudCliente)
boton_abrir_formulario_crud_clientes.grid(row=0, column=0, columnspan=2)
# Iniciar el loop principal de la ventana
ventana.mainloop()
